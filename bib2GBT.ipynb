{
 "cells": [
  {
   "cell_type": "code",
   "execution_count": 172,
   "metadata": {},
   "outputs": [],
   "source": [
    "import json"
   ]
  },
  {
   "cell_type": "code",
   "execution_count": 173,
   "metadata": {},
   "outputs": [],
   "source": [
    "bibFile = \"test/S2090123221001491.bib\"\n",
    "\n",
    "with open(bibFile, \"r\", encoding='utf-8') as f:\n",
    "    lines = f.readlines() \n",
    "\n",
    "\n",
    "index_1 = lines[0].find('@')\n",
    "index_2 = lines[0].find('{')\n",
    "bibtype = lines[0][index_1 + 1: index_2].replace(' ', '')\n",
    "\n",
    "# print(bibtype)"
   ]
  },
  {
   "cell_type": "code",
   "execution_count": 174,
   "metadata": {},
   "outputs": [],
   "source": [
    "jsonLines =[]\n",
    "jsonLines.append('{\\r\\n')\n",
    "\n",
    "for l in lines[1: -1]:\n",
    "    if (l.find(\"=\") != -1) & (l.find('{') == -1) & (l.find('}') == -1):\n",
    "        index_1 = l.find(\"=\")\n",
    "        index_2 = l.rfind(\",\")\n",
    "        l = '\"' + l[0: index_1].replace(' ', '') + '\":\"' + l[index_1 + 1: index_2].strip() + '\",\\r\\n'\n",
    "    else:\n",
    "        l = l.replace('{', '\"').replace('}', '\"')\n",
    "        index = l.find(\"=\")\n",
    "\n",
    "        if(index != -1): l = '\"' + l[0: index].replace(' ', '') + '\":' + l[index + 1: -1] + \"\\r\\n\"\n",
    "\n",
    "    jsonLines.append(l)\n",
    "\n",
    "jsonLines.append(lines[-1])\n",
    "\n",
    "index = jsonLines[-2].rfind('\"')\n",
    "jsonLines[-2] = jsonLines[-2][0: index] + jsonLines[-2][index: -1].replace(',', '') + \"\\r\\n\"\n",
    "\n",
    "bibJson = json.loads(\"\".join(jsonLines).replace('\\r', '').replace('\\n', ''))\n",
    "reftype = {\"article\": \"[J]\",\n",
    "            \"mastersthesis\": \"[D]\",\n",
    "            \"inproceedings\": \"[C]\",\n",
    "            \"techreport\": \"[N]\",\n",
    "            \"misc\": \"[P]\",\n",
    "            \"manual\": \"[P]\"}"
   ]
  },
  {
   "cell_type": "code",
   "execution_count": 175,
   "metadata": {},
   "outputs": [],
   "source": [
    "def getAuthor():\n",
    "    _author = bibJson[\"author\"].replace(' and ',\",\").replace(' & ',\",\").upper()\n",
    "    \n",
    "    if(_author.count(\",\") >= 3):\n",
    "        index_1 = _author.find(',')\n",
    "        index_2 = _author[index_1 + 1: -1].find(',')\n",
    "        index_3 = _author[index_1 + 1: -1][index_2 + 1: -1].find(',')\n",
    "\n",
    "        etc = \", et al\"\n",
    "\n",
    "        if('\\u4e00' <= _author[0: index_1] <= '\\u9fff'):\n",
    "            etc = \",等\"\n",
    "        \n",
    "        _author = _author[0: index_1 + index_2 + index_3 + 2] + etc\n",
    "\n",
    "    return _author"
   ]
  },
  {
   "cell_type": "code",
   "execution_count": 176,
   "metadata": {},
   "outputs": [],
   "source": [
    "def type_D():\n",
    "    fileBGT = getAuthor() + \". \" + bibJson[\"title\"] + reftype[bibtype] + \". \" + bibJson[\"school\"] + \",\" + bibJson[\"year\"]\n",
    "    return fileBGT"
   ]
  },
  {
   "cell_type": "code",
   "execution_count": 177,
   "metadata": {},
   "outputs": [],
   "source": [
    "def type_J():\n",
    "    \n",
    "    if \"year\" in bibJson: _year = \",\" + bibJson[\"year\"] + ','\n",
    "    else: _year = \"\"\n",
    "\n",
    "    if \"volume\" in bibJson: _volume = bibJson[\"volume\"]\n",
    "    else: _volume = \"\"\n",
    "\n",
    "    if \"number\" in bibJson: _number = '(' + bibJson[\"number\"] + \")\"\n",
    "    else: _number = \"\"\n",
    "\n",
    "    if \"pages\" in bibJson: _pages = ':' + bibJson[\"pages\"]\n",
    "    else: _pages = \"\"\n",
    "\n",
    "    fileBGT = (getAuthor() + \". \" + \n",
    "               bibJson[\"title\"] + \n",
    "               reftype[bibtype] + \". \" + \n",
    "               bibJson[\"journal\"] +\n",
    "               _year + _volume + _number + _pages\n",
    "               )\n",
    "\n",
    "    return fileBGT"
   ]
  },
  {
   "cell_type": "code",
   "execution_count": 178,
   "metadata": {},
   "outputs": [],
   "source": [
    "def type_C():\n",
    "    \n",
    "    if \"year\" in bibJson: _year = \",\" + bibJson[\"year\"] + ','\n",
    "    else: _year = \"\"\n",
    "\n",
    "    if \"pages\" in bibJson: _pages = ':' + bibJson[\"pages\"]\n",
    "    else: _pages = \"\"\n",
    "\n",
    "    fileBGT = (getAuthor() + \". \" + \n",
    "               bibJson[\"title\"] + \n",
    "               reftype[bibtype] + \". //\" + \n",
    "               bibJson[\"booktitle\"] +\n",
    "               _year + _pages\n",
    "               )\n",
    "\n",
    "    return fileBGT"
   ]
  },
  {
   "cell_type": "code",
   "execution_count": 179,
   "metadata": {},
   "outputs": [],
   "source": [
    "def type_N():\n",
    "    \n",
    "    fileBGT = (getAuthor() + \". \" + \n",
    "               bibJson[\"title\"] + \n",
    "               reftype[bibtype] + \". \" + \n",
    "               bibJson[\"institution\"] + \",\" + \n",
    "               bibJson[\"year\"]\n",
    "               )\n",
    "\n",
    "    return fileBGT"
   ]
  },
  {
   "cell_type": "code",
   "execution_count": 180,
   "metadata": {},
   "outputs": [
    {
     "name": "stdout",
     "output_type": "stream",
     "text": [
      "HARSHANI NADEESHANI,JINYAO LI,TIANLEI YING, et al. Nicotinamide mononucleotide (NMN) as an anti-aging health product – Promises and safety concerns[J]. Journal of Advanced Research,2022,37:267-278\n"
     ]
    }
   ],
   "source": [
    "match reftype[bibtype]:\n",
    "    case \"[J]\":\n",
    "        fileBGT = type_J()\n",
    "    case \"[D]\":\n",
    "        fileBGT = type_D()\n",
    "    case \"[C]\":\n",
    "        fileBGT = type_C()\n",
    "    case \"[N]\":\n",
    "        fileBGT = type_N()\n",
    "    case _:\n",
    "        fileBGT = \"** 类型不支持 **\"\n",
    "\n",
    "print(fileBGT)"
   ]
  }
 ],
 "metadata": {
  "kernelspec": {
   "display_name": "Python 3",
   "language": "python",
   "name": "python3"
  },
  "language_info": {
   "codemirror_mode": {
    "name": "ipython",
    "version": 3
   },
   "file_extension": ".py",
   "mimetype": "text/x-python",
   "name": "python",
   "nbconvert_exporter": "python",
   "pygments_lexer": "ipython3",
   "version": "3.11.1"
  }
 },
 "nbformat": 4,
 "nbformat_minor": 2
}
